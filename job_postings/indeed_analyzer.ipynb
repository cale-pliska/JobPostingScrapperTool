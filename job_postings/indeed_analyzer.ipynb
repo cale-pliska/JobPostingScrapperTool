{
 "cells": [
  {
   "cell_type": "code",
   "execution_count": 5,
   "metadata": {},
   "outputs": [
    {
     "name": "stdout",
     "output_type": "stream",
     "text": [
      "Collecting beautifulsoup4\n",
      "  Downloading beautifulsoup4-4.10.0-py3-none-any.whl (97 kB)\n",
      "Collecting soupsieve>1.2\n",
      "  Downloading soupsieve-2.3.1-py3-none-any.whl (37 kB)\n",
      "Installing collected packages: soupsieve, beautifulsoup4\n",
      "Successfully installed beautifulsoup4-4.10.0 soupsieve-2.3.1\n"
     ]
    },
    {
     "name": "stderr",
     "output_type": "stream",
     "text": [
      "WARNING: You are using pip version 21.1.1; however, version 21.3.1 is available.\n",
      "You should consider upgrading via the 'C:\\Users\\calep\\AppData\\Local\\Programs\\Python\\Python39\\python.exe -m pip install --upgrade pip' command.\n"
     ]
    }
   ],
   "source": [
    "# Install a pip package in the current Jupyter kernel\n",
    "# import sys\n",
    "# !{sys.executable} -m pip install beautifulsoup4"
   ]
  },
  {
   "cell_type": "code",
   "execution_count": 44,
   "metadata": {},
   "outputs": [],
   "source": [
    "import json, re, ssl\n",
    "from urllib.request import Request, urlopen\n",
    "from bs4 import BeautifulSoup"
   ]
  },
  {
   "cell_type": "code",
   "execution_count": 45,
   "metadata": {},
   "outputs": [],
   "source": [
    "BASE_URL = \"https://www.indeed.com/\"\n",
    "\n",
    "#for ignoring ssl certificate errors\n",
    "ctx = ssl.create_default_context()\n",
    "ctx.check_hostname = False\n",
    "ctx.verify_mode = ssl.CERT_NONE"
   ]
  },
  {
   "cell_type": "code",
   "execution_count": 46,
   "metadata": {},
   "outputs": [],
   "source": [
    "def scrape_data(url_to_scrape, number_of_pages_nos):\n",
    "    \"\"\"This function loops through the number of pages of search results that need to be scraped and passes the data into\n",
    "    another function to extract particular data points for each of the the inividial job post in a single page of a job post result\n",
    "    \"\"\"\n",
    "    data_collected = []\n",
    "    for i in range(0, number_of_pages_nos):\n",
    "        extension = \"\"\n",
    "        if i != 0:\n",
    "            extension = \"&start=\" + str(i*10)\n",
    "        url = url_to_scrape + extension\n",
    "        req = Request(url, headers={\"User-Agent\": \"Mozilla\\5.0\"})\n",
    "        web_page = urlopen(req).read()\n",
    "        soup = BeautifulSoup(web_page, \"html.parser\")\n",
    "        # print(soup)\n",
    "        data_collected = get_data_from_webpage(data_collected, soup)\n",
    "    return data_collected\n"
   ]
  },
  {
   "cell_type": "code",
   "execution_count": 57,
   "metadata": {},
   "outputs": [],
   "source": [
    "def extract_data_points(job, div):\n",
    "    \"\"\"\n",
    "    This function helps extract specific data points such as title, companyName, rating and more for each job post in a search result page\n",
    "    \"\"\"\n",
    "    for elem in div.findAll('h2', attrs={'class': 'jobTitle'}):\n",
    "        job['title'] = elem.text\n",
    "\n",
    "    for elem in div.findAll('span', attrs={'class': 'companyName'}):\n",
    "        job['companyName'] = elem.text\n",
    "\n",
    "    for elem in div.findAll('div', attrs={'class': 'companyLocation'}):\n",
    "        job['companyLocation'] = elem.text\n",
    "\n",
    "\n",
    "    print(job)\n",
    "\n",
    "    return job"
   ]
  },
  {
   "cell_type": "code",
   "execution_count": 58,
   "metadata": {},
   "outputs": [],
   "source": [
    "def get_data_from_webpage(data_collected, soup):\n",
    "    \"\"\"\n",
    "    This function loops through the different job posts in a single page of search results and extracts information for each individual job post\n",
    "    \"\"\"\n",
    "    job_posts = []\n",
    "    for div in soup.findAll('a', attrs={'class': 'result'}):\n",
    "\n",
    "        # print(\"found a new div! \\n {}\".format(div))\n",
    "\n",
    "        job = dict()\n",
    "        job = extract_data_points(job, div)\n",
    "        job_posts.append(div['data-jk'])\n",
    "        single_job_post_extension_url = \"https://www.indeed.com/viewjob?jk=\" + div[\"data-jk\"]\n",
    "        job[\"url\"] = single_job_post_extension_url\n",
    "        req = Request(single_job_post_extension_url, headers = {\"User-Agent\": \"Mozilla/5.0\"})\n",
    "        web_page = urlopen(req).read()\n",
    "        job_soup = BeautifulSoup(web_page, 'html.parser')\n",
    "\n",
    "        for inside_div in job_soup.findAll('div', attrs={\"class\": \"jobsearch-jobDescriptionText\"}):\n",
    "            details = inside_div.text\n",
    "            job[\"details\"] = re.sub(' +', ' ', details.replace(\"\\n\", \" \"))\n",
    "            \n",
    "        data_collected.append(job)\n",
    "    return data_collected"
   ]
  },
  {
   "cell_type": "code",
   "execution_count": 59,
   "metadata": {},
   "outputs": [],
   "source": [
    "def main(name_of_city, keywords, number_of_pages_nos):\n",
    "    \"\"\"main function where inputs are taken and the first url we use is constructed.\n",
    "    Also, the final JSON is saved here using the data scraped.  \"\"\"\n",
    "    # name_of_city = input(\"Enter the name of city you want to search- \")\n",
    "    # keywords = input(\"Enter your desired search keywords\")\n",
    "    # number_of_pages = input(\"Enter the number of pages of search results that you want to scrape for provided keywords- \")\n",
    "\n",
    "    name_of_city = '+'.join(name_of_city.split(' '))\n",
    "    keywords = '+'.join(keywords.split(' '))\n",
    "\n",
    "    url_to_scrape = BASE_URL + \"/jobs?q=\" + keywords + \"&1-\" + name_of_city\n",
    "    print(\"the url to scrape is {}\".format(url_to_scrape))\n",
    "\n",
    "    data_collected = scrape_data(url_to_scrape, number_of_pages_nos)\n",
    "    with open('data.json', 'w') as fp:\n",
    "        json.dump(data_collected, fp, sort_keys=True, indent=4, ensure_ascii=False)"
   ]
  },
  {
   "cell_type": "code",
   "execution_count": 61,
   "metadata": {},
   "outputs": [
    {
     "name": "stdout",
     "output_type": "stream",
     "text": [
      "the url to scrape is https://www.indeed.com//jobs?q=Web+Developer&1-Milwaukee\n",
      "{'title': 'newApplication Developer', 'companyName': 'My Choice Wisconsin', 'companyLocation': 'Milwaukee, WI 53226+2 locations'}\n",
      "{'title': 'newWeb Developer', 'companyName': 'Rural Sourcing Inc', 'companyLocation': 'Augusta, GA+9 locations•Remote'}\n",
      "{'title': 'Web Designer/Developer', 'companyName': 'DelMain Analytics', 'companyLocation': 'Oregon•Remote'}\n",
      "{'title': 'Front End Developer', 'companyName': 'Underdog.io', 'companyLocation': 'San Francisco Bay Area, CA+1 location'}\n",
      "{'title': 'newFull Stack Web Developer', 'companyName': 'Peklava LLC', 'companyLocation': 'Remote'}\n",
      "{'title': 'Front-end React Developer', 'companyName': 'Vinformatix', 'companyLocation': 'United States'}\n",
      "{'title': 'Front-End developer (remote)', 'companyName': 'OpenClassrooms', 'companyLocation': 'Chicago, IL+10 locations•Remote'}\n",
      "{'title': 'Front End Developer (Entry level)', 'companyName': 'Revature', 'companyLocation': 'Texas+126 locations'}\n",
      "{'title': 'PHP Developer', 'companyName': 'Revint Solutions', 'companyLocation': 'Remote'}\n",
      "{'title': 'newFrontend Web Developer', 'companyName': 'Grey Ghost Studio, Inc', 'companyLocation': 'Beaverton, OR 97007 (Neighbors Southwest area)•Remote'}\n",
      "{'title': 'ReactJS Front-End developer', 'companyName': 'Travel Zap Inc.', 'companyLocation': 'Remote'}\n",
      "{'title': 'newHTML Developer', 'companyName': 'Liberty University', 'companyLocation': 'Lynchburg, VA 24515'}\n",
      "{'title': 'Entry Level Web Developer', 'companyName': 'Firstrade Securities Inc.', 'companyLocation': 'Flushing, NY 11354'}\n",
      "{'title': '.NET Web Developer I', 'companyName': 'Security Service Federal Credit Union', 'companyLocation': 'Austin, TX 78750•Remote'}\n",
      "{'title': 'Front-End Web Developer', 'companyName': 'Apartments247.com', 'companyLocation': 'Temporarily Remote'}\n",
      "{'title': 'newFull Stack Web Developer', 'companyName': 'Peklava LLC', 'companyLocation': 'Remote'}\n",
      "{'title': 'newFront-end Developer', 'companyName': 'BVK', 'companyLocation': 'Milwaukee, WI'}\n",
      "{'title': 'Web Analytics Developer', 'companyName': 'SCG', 'companyLocation': 'Remote'}\n",
      "{'title': 'WordPress Developer', 'companyName': 'Kalmbach Media', 'companyLocation': 'Waukesha, WI 53186'}\n",
      "{'title': 'Web Developer', 'companyName': 'Offchain Labs', 'companyLocation': 'Remote'}\n",
      "{'title': 'Junior Web Developer', 'companyName': 'Range Marketing', 'companyLocation': 'Remote'}\n",
      "{'title': 'newFront End Engineer', 'companyName': 'Amazon.com Services LLC', 'companyLocation': '+126 locationsRemote'}\n",
      "{'title': 'Developer', 'companyName': 'Bertram Communications', 'companyLocation': 'Random Lake, WI 53075'}\n",
      "{'title': 'Programmer/Web Developer', 'companyName': 'Great Lakes Fund Solutions, Inc.', 'companyLocation': 'Lake Villa, IL 60046'}\n",
      "{'title': 'Sr Applications Developer', 'companyName': 'ITProMark', 'companyLocation': 'Oak Creek, WI 53154'}\n",
      "{'title': 'Junior Web Developer', 'companyName': 'Public Goods', 'companyLocation': 'New York, NY+1 location•Remote'}\n",
      "{'title': 'Web Designer/Developer', 'companyName': 'Chicago Advertising Agency', 'companyLocation': 'Remote'}\n",
      "{'title': 'Web Developer II', 'companyName': 'FieldRoutes', 'companyLocation': 'Remote'}\n",
      "{'title': 'newWeb Developer', 'companyName': 'Anheuser-Busch', 'companyLocation': 'St. Louis, MO'}\n",
      "{'title': 'newWeb Developer', 'companyName': 'BeaconFire Solution', 'companyLocation': 'Remote'}\n",
      "{'title': 'Developer', 'companyName': 'Bertram Communications', 'companyLocation': 'Random Lake, WI 53075'}\n",
      "{'title': 'newWeb Developer', 'companyName': 'Leatherman Tool Group Inc.', 'companyLocation': 'Portland, OR 97220 (Parkrose area)•Remote'}\n",
      "{'title': 'Junior Web Developer', 'companyName': 'HealPay', 'companyLocation': 'Ann Arbor, MI+1 location'}\n",
      "{'title': '.Net Developer', 'companyName': 'MiraclesTek', 'companyLocation': 'Milwaukee, WI•Remote'}\n",
      "{'title': 'FRONT END WEB DEVELOPER', 'companyName': 'Dollar Tree', 'companyLocation': 'Chesapeake, VA 23320 (Greenbrier West area)'}\n",
      "{'title': 'newEntry-Level React Front End Developer', 'companyName': 'Antra, Inc', 'companyLocation': 'Washington, DC'}\n",
      "{'title': 'newWeb Developer Front End', 'companyName': 'Johns Hopkins Health System', 'companyLocation': 'Baltimore, MD 21201 (Downtown area)'}\n",
      "{'title': 'newWeb Developer', 'companyName': 'Business Information Systems', 'companyLocation': 'Piney Flats, TN'}\n",
      "{'title': 'Jr. Web Developer', 'companyName': '1POINT21 Interactive', 'companyLocation': 'San Diego, CA+1 location'}\n",
      "{'title': 'Jr. Web Developer', 'companyName': 'Razorfish', 'companyLocation': 'Seattle, WA 98119 (Uptown area)'}\n",
      "{'title': 'Web Developer', 'companyName': 'Continuum', 'companyLocation': 'Remote'}\n",
      "{'title': 'Junior Web Developer', 'companyName': 'By the Pixel', 'companyLocation': 'Remote'}\n",
      "{'title': 'Jr. Web Developer', 'companyName': 'Transport Investments', 'companyLocation': 'Pittsburgh, PA 15275'}\n",
      "{'title': 'newWeb Developer', 'companyName': 'Moxley Carmichael', 'companyLocation': 'Knoxville, TN 37902 (Downtown area)'}\n",
      "{'title': 'Web Designer/Developer', 'companyName': 'Advocare Pain', 'companyLocation': 'Voorhees, NJ 08043+1 location'}\n"
     ]
    }
   ],
   "source": [
    "main(\"Milwaukee\", \"Web Developer\", 3)"
   ]
  },
  {
   "cell_type": "code",
   "execution_count": null,
   "metadata": {},
   "outputs": [],
   "source": []
  },
  {
   "cell_type": "code",
   "execution_count": null,
   "metadata": {},
   "outputs": [],
   "source": []
  }
 ],
 "metadata": {
  "interpreter": {
   "hash": "c3e7881a579cc55531a9f7a6b7c597219f2cf791d0c91f6f5435769c0def3c7a"
  },
  "kernelspec": {
   "display_name": "Python 3.9.5 64-bit",
   "language": "python",
   "name": "python3"
  },
  "language_info": {
   "codemirror_mode": {
    "name": "ipython",
    "version": 3
   },
   "file_extension": ".py",
   "mimetype": "text/x-python",
   "name": "python",
   "nbconvert_exporter": "python",
   "pygments_lexer": "ipython3",
   "version": "3.9.5"
  },
  "orig_nbformat": 4
 },
 "nbformat": 4,
 "nbformat_minor": 2
}
