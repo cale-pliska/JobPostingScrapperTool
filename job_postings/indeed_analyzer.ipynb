{
 "cells": [
  {
   "cell_type": "code",
   "execution_count": 5,
   "metadata": {},
   "outputs": [
    {
     "name": "stdout",
     "output_type": "stream",
     "text": [
      "Collecting beautifulsoup4\n",
      "  Downloading beautifulsoup4-4.10.0-py3-none-any.whl (97 kB)\n",
      "Collecting soupsieve>1.2\n",
      "  Downloading soupsieve-2.3.1-py3-none-any.whl (37 kB)\n",
      "Installing collected packages: soupsieve, beautifulsoup4\n",
      "Successfully installed beautifulsoup4-4.10.0 soupsieve-2.3.1\n"
     ]
    },
    {
     "name": "stderr",
     "output_type": "stream",
     "text": [
      "WARNING: You are using pip version 21.1.1; however, version 21.3.1 is available.\n",
      "You should consider upgrading via the 'C:\\Users\\calep\\AppData\\Local\\Programs\\Python\\Python39\\python.exe -m pip install --upgrade pip' command.\n"
     ]
    }
   ],
   "source": [
    "# Install a pip package in the current Jupyter kernel\n",
    "# import sys\n",
    "# !{sys.executable} -m pip install beautifulsoup4"
   ]
  },
  {
   "cell_type": "code",
   "execution_count": 44,
   "metadata": {},
   "outputs": [],
   "source": [
    "import json, re, ssl\n",
    "from urllib.request import Request, urlopen\n",
    "from bs4 import BeautifulSoup"
   ]
  },
  {
   "cell_type": "code",
   "execution_count": 45,
   "metadata": {},
   "outputs": [],
   "source": [
    "BASE_URL = \"https://www.indeed.com/\"\n",
    "\n",
    "#for ignoring ssl certificate errors\n",
    "ctx = ssl.create_default_context()\n",
    "ctx.check_hostname = False\n",
    "ctx.verify_mode = ssl.CERT_NONE"
   ]
  },
  {
   "cell_type": "code",
   "execution_count": 46,
   "metadata": {},
   "outputs": [],
   "source": [
    "def scrape_data(url_to_scrape, number_of_pages_nos):\n",
    "    \"\"\"This function loops through the number of pages of search results that need to be scraped and passes the data into\n",
    "    another function to extract particular data points for each of the the inividial job post in a single page of a job post result\n",
    "    \"\"\"\n",
    "    data_collected = []\n",
    "    for i in range(0, number_of_pages_nos):\n",
    "        extension = \"\"\n",
    "        if i != 0:\n",
    "            extension = \"&start=\" + str(i*10)\n",
    "        url = url_to_scrape + extension\n",
    "        req = Request(url, headers={\"User-Agent\": \"Mozilla\\5.0\"})\n",
    "        web_page = urlopen(req).read()\n",
    "        soup = BeautifulSoup(web_page, \"html.parser\")\n",
    "        # print(soup)\n",
    "        data_collected = get_data_from_webpage(data_collected, soup)\n",
    "    return data_collected\n"
   ]
  },
  {
   "cell_type": "code",
   "execution_count": 66,
   "metadata": {},
   "outputs": [],
   "source": [
    "def extract_data_points(job, div):\n",
    "    \"\"\"\n",
    "    This function helps extract specific data points such as title, companyName, rating and more for each job post in a search result page\n",
    "    \"\"\"\n",
    "    for elem in div.findAll('h2', attrs={'class': 'jobTitle'}):\n",
    "        job['title'] = elem.text\n",
    "\n",
    "    for elem in div.findAll('span', attrs={'class': 'companyName'}):\n",
    "        job['companyName'] = elem.text\n",
    "\n",
    "    for elem in div.findAll('div', attrs={'class': 'companyLocation'}):\n",
    "        job['companyLocation'] = elem.text\n",
    "\n",
    "\n",
    "    print(job)\n",
    "\n",
    "    return job"
   ]
  },
  {
   "cell_type": "code",
   "execution_count": 67,
   "metadata": {},
   "outputs": [],
   "source": [
    "def get_data_from_webpage(data_collected, soup):\n",
    "    \"\"\"\n",
    "    This function loops through the different job posts in a single page of search results and extracts information for each individual job post\n",
    "    \"\"\"\n",
    "    job_posts = []\n",
    "    for div in soup.findAll('a', attrs={'class': 'result'}):\n",
    "\n",
    "        # print(\"found a new div! \\n {}\".format(div))\n",
    "\n",
    "        job = dict()\n",
    "        job = extract_data_points(job, div)\n",
    "        job_posts.append(div['data-jk'])\n",
    "        single_job_post_extension_url = \"https://www.indeed.com/viewjob?jk=\" + div[\"data-jk\"]\n",
    "        job[\"url\"] = single_job_post_extension_url\n",
    "        req = Request(single_job_post_extension_url, headers = {\"User-Agent\": \"Mozilla/5.0\"})\n",
    "        web_page = urlopen(req).read()\n",
    "        job_soup = BeautifulSoup(web_page, 'html.parser')\n",
    "\n",
    "        for inside_div in job_soup.findAll('div', attrs={\"class\": \"jobsearch-jobDescriptionText\"}):\n",
    "            details = inside_div.text\n",
    "            job[\"details\"] = re.sub(' +', ' ', details.replace(\"\\n\", \" \"))\n",
    "            \n",
    "        data_collected.append(job)\n",
    "    return data_collected"
   ]
  },
  {
   "cell_type": "code",
   "execution_count": 68,
   "metadata": {},
   "outputs": [],
   "source": [
    "def main(name_of_city, keywords, number_of_pages_nos):\n",
    "    \"\"\"main function where inputs are taken and the first url we use is constructed.\n",
    "    Also, the final JSON is saved here using the data scraped.  \"\"\"\n",
    "    # name_of_city = input(\"Enter the name of city you want to search- \")\n",
    "    # keywords = input(\"Enter your desired search keywords\")\n",
    "    # number_of_pages = input(\"Enter the number of pages of search results that you want to scrape for provided keywords- \")\n",
    "\n",
    "    name_of_city = '+'.join(name_of_city.split(' '))\n",
    "    keywords = '+'.join(keywords.split(' '))\n",
    "\n",
    "    url_to_scrape = BASE_URL + \"/jobs?q=\" + keywords + \"&1-\" + name_of_city\n",
    "    print(\"the url to scrape is {}\".format(url_to_scrape))\n",
    "\n",
    "    data_collected = scrape_data(url_to_scrape, number_of_pages_nos)\n",
    "    with open('data.json', 'w') as fp:\n",
    "        json.dump(data_collected, fp, sort_keys=True, indent=4, ensure_ascii=False)"
   ]
  },
  {
   "cell_type": "code",
   "execution_count": 69,
   "metadata": {},
   "outputs": [
    {
     "name": "stdout",
     "output_type": "stream",
     "text": [
      "the url to scrape is https://www.indeed.com//jobs?q=Web+Developer&1-Milwaukee\n",
      "{'title': 'Front End Web Developer', 'companyName': 'Image Management', 'companyLocation': 'Racine, WI 53403'}\n",
      "{'title': 'Front End Developer', 'companyName': 'Triple Crown Products', 'companyLocation': 'Mukwonago, WI 53149'}\n",
      "{'title': 'Web Developer Milwaukee', 'companyName': 'OhmzTech', 'companyLocation': 'Milwaukee, WI'}\n",
      "{'title': 'Web Front End React Developer', 'companyName': 'Assemble Inc.', 'companyLocation': 'Remote+1 location'}\n",
      "{'title': 'Front-End developer (remote)', 'companyName': 'OpenClassrooms', 'companyLocation': 'Chicago, IL+10 locations•Remote'}\n",
      "{'title': 'Web Designer/Developer', 'companyName': 'Chicago Advertising Agency', 'companyLocation': 'Remote'}\n",
      "{'title': 'eCommerce Web Developer - JavaScript Focus', 'companyName': 'oBundle', 'companyLocation': 'Remote'}\n",
      "{'title': 'Javascript Developer', 'companyName': 'ion Software Group', 'companyLocation': 'Pleasant Prairie, WI'}\n",
      "{'title': 'Shopify Frontend Developer(100% remote, flexible work hours,...', 'companyName': 'Outliant', 'companyLocation': 'Remote'}\n",
      "{'title': 'Web Designer/Developer', 'companyName': 'DelMain Analytics', 'companyLocation': 'Oregon•Remote'}\n",
      "{'title': 'Web Application Developer', 'companyName': 'Schwaab, Inc', 'companyLocation': 'Brookfield, WI 53005'}\n",
      "{'title': 'Entry-Level Front End Developer', 'companyName': 'Dealer Spike', 'companyLocation': 'Oregon'}\n",
      "{'title': 'newWeb Developer', 'companyName': 'Macatawa Bank', 'companyLocation': 'Holland, MI 49424'}\n",
      "{'title': 'newFront End Web Developer', 'companyName': 'TCS Education System', 'companyLocation': 'Chicago, IL 60601 (The Loop area)'}\n",
      "{'title': 'Web Developer I', 'companyName': 'USC', 'companyLocation': 'Marina del Rey, CA 90292'}\n",
      "{'title': 'Front End Web Developer', 'companyName': 'Image Management', 'companyLocation': 'Racine, WI 53403'}\n",
      "{'title': 'Front End Developer', 'companyName': 'Triple Crown Products', 'companyLocation': 'Mukwonago, WI 53149'}\n",
      "{'title': 'Web Developer Milwaukee', 'companyName': 'OhmzTech', 'companyLocation': 'Milwaukee, WI'}\n",
      "{'title': 'Web Designer/Developer', 'companyName': 'Chicago Advertising Agency', 'companyLocation': 'Remote'}\n",
      "{'title': 'eCommerce Web Developer - JavaScript Focus', 'companyName': 'oBundle', 'companyLocation': 'Remote'}\n",
      "{'title': 'Javascript Developer', 'companyName': 'ion Software Group', 'companyLocation': 'Pleasant Prairie, WI'}\n",
      "{'title': 'Shopify Frontend Developer(100% remote, flexible work hours,...', 'companyName': 'Outliant', 'companyLocation': 'Remote'}\n",
      "{'title': 'Web Application Developer', 'companyName': 'Schwaab, Inc', 'companyLocation': 'Brookfield, WI 53005'}\n",
      "{'title': 'newJunior Software Developer', 'companyName': 'StaffBright', 'companyLocation': 'Remote'}\n",
      "{'title': 'Entry-Level Front End Developer', 'companyName': 'Dealer Spike', 'companyLocation': 'Oregon'}\n",
      "{'title': 'Jr. Application Developer', 'companyName': 'Enhance IT', 'companyLocation': 'United States'}\n",
      "{'title': 'newWeb Developer', 'companyName': 'Macatawa Bank', 'companyLocation': 'Holland, MI 49424'}\n",
      "{'title': 'newFront End Web Developer', 'companyName': 'TCS Education System', 'companyLocation': 'Chicago, IL 60601 (The Loop area)'}\n",
      "{'title': 'Web Developer I', 'companyName': 'USC', 'companyLocation': 'Marina del Rey, CA 90292'}\n",
      "{'title': 'newShopify Developer - Front-End', 'companyName': 'Jarvis Recruitment Group', 'companyLocation': 'New Jersey+126 locations•Remote'}\n",
      "{'title': 'newWeb Application Developer', 'companyName': 'Vector Technical Resources Inc.', 'companyLocation': 'Rockville, MD•Remote'}\n",
      "{'title': 'Web Developer (Jr. to Mid)', 'companyName': 'PageUp People', 'companyLocation': 'Remote'}\n",
      "{'title': 'Javascript Developer', 'companyName': 'ion Software Group', 'companyLocation': 'Pleasant Prairie, WI'}\n",
      "{'title': '.Net Developer', 'companyName': 'MiraclesTek', 'companyLocation': 'Milwaukee, WI•Remote'}\n",
      "{'title': 'Junior Web Developer', 'companyName': 'By the Pixel', 'companyLocation': 'Remote'}\n",
      "{'title': 'Senior E-Commerce Front End Web Developer - Remote', 'companyName': 'Harbor Freight Tools USA, Inc.', 'companyLocation': '+1 locationRemote'}\n",
      "{'title': 'WordPress Developer', 'companyName': 'Kalmbach Media', 'companyLocation': 'Waukesha, WI 53186'}\n",
      "{'title': 'Jr. Software Developer', 'companyName': 'Enhance IT', 'companyLocation': 'United States+1 location•Temporarily Remote'}\n",
      "{'title': 'newApplication Developer', 'companyName': 'My Choice Wisconsin', 'companyLocation': 'Wauwatosa, WI 53226+2 locations'}\n",
      "{'title': 'newFull Stack Web Developer', 'companyName': 'Peklava LLC', 'companyLocation': 'Remote'}\n",
      "{'title': 'newFront-end Developer', 'companyName': 'BVK', 'companyLocation': 'Milwaukee, WI'}\n",
      "{'title': 'Web Front End React Developer', 'companyName': 'Assemble Inc.', 'companyLocation': 'Remote+1 location'}\n",
      "{'title': 'Web Analytics Developer', 'companyName': 'SCG', 'companyLocation': 'Remote'}\n",
      "{'title': 'Junior Web Developer', 'companyName': 'Range Marketing', 'companyLocation': 'Remote'}\n",
      "{'title': 'Web Developer - Front End', 'companyName': \"Children's Wisconsin\", 'companyLocation': 'Milwaukee, WI'}\n"
     ]
    }
   ],
   "source": [
    "main(\"Milwaukee\", \"Web Developer\", 3)"
   ]
  },
  {
   "cell_type": "code",
   "execution_count": null,
   "metadata": {},
   "outputs": [],
   "source": []
  },
  {
   "cell_type": "code",
   "execution_count": null,
   "metadata": {},
   "outputs": [],
   "source": []
  }
 ],
 "metadata": {
  "interpreter": {
   "hash": "c3e7881a579cc55531a9f7a6b7c597219f2cf791d0c91f6f5435769c0def3c7a"
  },
  "kernelspec": {
   "display_name": "Python 3.9.5 64-bit",
   "language": "python",
   "name": "python3"
  },
  "language_info": {
   "codemirror_mode": {
    "name": "ipython",
    "version": 3
   },
   "file_extension": ".py",
   "mimetype": "text/x-python",
   "name": "python",
   "nbconvert_exporter": "python",
   "pygments_lexer": "ipython3",
   "version": "3.9.5"
  },
  "orig_nbformat": 4
 },
 "nbformat": 4,
 "nbformat_minor": 2
}
