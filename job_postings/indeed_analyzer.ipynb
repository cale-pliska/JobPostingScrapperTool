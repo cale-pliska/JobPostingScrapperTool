{
 "cells": [
  {
   "cell_type": "code",
   "execution_count": 5,
   "metadata": {},
   "outputs": [
    {
     "name": "stdout",
     "output_type": "stream",
     "text": [
      "Collecting beautifulsoup4\n",
      "  Downloading beautifulsoup4-4.10.0-py3-none-any.whl (97 kB)\n",
      "Collecting soupsieve>1.2\n",
      "  Downloading soupsieve-2.3.1-py3-none-any.whl (37 kB)\n",
      "Installing collected packages: soupsieve, beautifulsoup4\n",
      "Successfully installed beautifulsoup4-4.10.0 soupsieve-2.3.1\n"
     ]
    },
    {
     "name": "stderr",
     "output_type": "stream",
     "text": [
      "WARNING: You are using pip version 21.1.1; however, version 21.3.1 is available.\n",
      "You should consider upgrading via the 'C:\\Users\\calep\\AppData\\Local\\Programs\\Python\\Python39\\python.exe -m pip install --upgrade pip' command.\n"
     ]
    }
   ],
   "source": [
    "# Install a pip package in the current Jupyter kernel\n",
    "# import sys\n",
    "# !{sys.executable} -m pip install beautifulsoup4"
   ]
  },
  {
   "cell_type": "code",
   "execution_count": 33,
   "metadata": {},
   "outputs": [],
   "source": [
    "import json, re, ssl\n",
    "from urllib.request import Request, urlopen\n",
    "from bs4 import BeautifulSoup"
   ]
  },
  {
   "cell_type": "code",
   "execution_count": 34,
   "metadata": {},
   "outputs": [],
   "source": [
    "BASE_URL = \"https://www.indeed.com/\"\n",
    "\n",
    "#for ignoring ssl certificate errors\n",
    "ctx = ssl.create_default_context()\n",
    "ctx.check_hostname = False\n",
    "ctx.verify_mode = ssl.CERT_NONE"
   ]
  },
  {
   "cell_type": "markdown",
   "metadata": {},
   "source": []
  },
  {
   "cell_type": "code",
   "execution_count": 92,
   "metadata": {},
   "outputs": [],
   "source": [
    "def scrape_data(url_to_scrape, number_of_pages_nos):\n",
    "    \"\"\"This function loops through the number of pages of search results that need to be scraped and passes the data into\n",
    "    another function to extract particular data points for each of the the inividial job post in a single page of a job post result\n",
    "    \"\"\"\n",
    "    data_collected = []\n",
    "    for i in range(0, number_of_pages_nos):\n",
    "        extension = \"\"\n",
    "        if i != 0:\n",
    "            extension = \"&start=\" + str(i*10)\n",
    "        url = url_to_scrape + extension\n",
    "        req = Request(url, headers={\"User-Agent\": \"Mozilla\\5.0\"})\n",
    "        web_page = urlopen(req).read()\n",
    "        soup = BeautifulSoup(web_page, \"html.parser\")\n",
    "        # print(soup)\n",
    "        data_collected = get_data_from_webpage(data_collected, soup)\n",
    "    return data_collected\n"
   ]
  },
  {
   "cell_type": "code",
   "execution_count": 135,
   "metadata": {},
   "outputs": [],
   "source": [
    "def extract_data_points(job, div):\n",
    "    \"\"\"\n",
    "    This function helps extract specific data points such as title, companyName, rating and more for each job post in a search result page\n",
    "    \"\"\"\n",
    "    for elem in div.findAll('h2', attrs={'class': 'jobTitle'}):\n",
    "        print(\"-----\\n\", elem)\n",
    "        job['title'] = elem.text\n",
    "        print(job)\n",
    "\n",
    "    #  <h2 class=\"jobTitle jobTitle-color-purple\"><span title=\"Jr. Front End Web Developer\">Jr. Front End Web Developer</span></h2>\n",
    "    \n",
    "    return job"
   ]
  },
  {
   "cell_type": "code",
   "execution_count": 136,
   "metadata": {},
   "outputs": [],
   "source": [
    "def get_data_from_webpage(data_collected, soup):\n",
    "    \"\"\"\n",
    "    This function loops through the different job posts in a single page of search results and extracts information for each individual job post\n",
    "    \"\"\"\n",
    "    job_posts = []\n",
    "    for div in soup.findAll('a', attrs={'class': 'result'}):\n",
    "        job = dict()\n",
    "        job = extract_data_points(job, div)\n",
    "        job_posts.append(div['data-jk'])\n",
    "        single_job_post_extension_url = \"https://www.indeed.com/viewjob?jk=\" + div[\"data-jk\"]\n",
    "        job[\"url\"] = single_job_post_extension_url\n",
    "        req = Request(single_job_post_extension_url, headers = {\"User-Agent\": \"Mozilla/5.0\"})\n",
    "        web_page = urlopen(req).read()\n",
    "        job_soup = BeautifulSoup(web_page, 'html.parser')\n",
    "\n",
    "        for inside_div in job_soup.findAll('div', attrs={\"class\": \"jobsearch-jobDescriptionText\"}):\n",
    "            details = inside_div.text.strip()[:100] + \"...\"\n",
    "            job[\"details\"] = re.sub(' +', ' ', details.replace(\"\\n\", \" \"))\n",
    "        data_collected.append(job)\n",
    "    return data_collected"
   ]
  },
  {
   "cell_type": "code",
   "execution_count": 137,
   "metadata": {},
   "outputs": [],
   "source": [
    "def main(name_of_city, keywords, number_of_pages_nos):\n",
    "    \"\"\"main function where inputs are taken and the first url we use is constructed.\n",
    "    Also, the final JSON is saved here using the data scraped.  \"\"\"\n",
    "    # name_of_city = input(\"Enter the name of city you want to search- \")\n",
    "    # keywords = input(\"Enter your desired search keywords\")\n",
    "    # number_of_pages = input(\"Enter the number of pages of search results that you want to scrape for provided keywords- \")\n",
    "\n",
    "    name_of_city = '+'.join(name_of_city.split(' '))\n",
    "    keywords = '+'.join(keywords.split(' '))\n",
    "\n",
    "    url_to_scrape = BASE_URL + \"/jobs?q=\" + keywords + \"&1-\" + name_of_city\n",
    "    # number_of_pages_nos = int(number_of_pages)\n",
    "    data_collected = scrape_data(url_to_scrape, number_of_pages_nos)\n",
    "    with open('data.json', 'w') as fp:\n",
    "        json.dump(data_collected, fp, sort_keys=True, indent=4, ensure_ascii=False)"
   ]
  },
  {
   "cell_type": "code",
   "execution_count": 138,
   "metadata": {},
   "outputs": [
    {
     "name": "stdout",
     "output_type": "stream",
     "text": [
      "-----\n",
      " <h2 class=\"jobTitle jobTitle-color-purple\"><span title=\"Jr. Front End Web Developer\">Jr. Front End Web Developer</span></h2>\n",
      "{'title': 'Jr. Front End Web Developer'}\n",
      "-----\n",
      " <h2 class=\"jobTitle jobTitle-color-purple\"><span title=\"Junior Front End Developer\">Junior Front End Developer</span></h2>\n",
      "{'title': 'Junior Front End Developer'}\n",
      "-----\n",
      " <h2 class=\"jobTitle jobTitle-color-purple jobTitle-newJob\"><div class=\"new topLeft holisticNewBlue desktop\"><span class=\"label\">new</span></div><span title=\"Frontend Web Developer (Wordpress)\">Frontend Web Developer (Wordpress)</span></h2>\n",
      "{'title': 'newFrontend Web Developer (Wordpress)'}\n",
      "-----\n",
      " <h2 class=\"jobTitle jobTitle-color-purple\"><span title=\"Front End Developer\">Front End Developer</span></h2>\n",
      "{'title': 'Front End Developer'}\n",
      "-----\n",
      " <h2 class=\"jobTitle jobTitle-color-purple\"><span title=\"Javascript Developer\">Javascript Developer</span></h2>\n",
      "{'title': 'Javascript Developer'}\n",
      "-----\n",
      " <h2 class=\"jobTitle jobTitle-color-purple jobTitle-newJob\"><div class=\"new topLeft holisticNewBlue desktop\"><span class=\"label\">new</span></div><span title=\"BHLDN: Web Developer\">BHLDN: Web Developer</span></h2>\n",
      "{'title': 'newBHLDN: Web Developer'}\n",
      "-----\n",
      " <h2 class=\"jobTitle jobTitle-color-purple jobTitle-newJob\"><div class=\"new topLeft holisticNewBlue desktop\"><span class=\"label\">new</span></div><span title=\"Senior Web Developer\">Senior Web Developer</span></h2>\n",
      "{'title': 'newSenior Web Developer'}\n",
      "-----\n",
      " <h2 class=\"jobTitle jobTitle-color-purple jobTitle-newJob\"><div class=\"new topLeft holisticNewBlue desktop\"><span class=\"label\">new</span></div><span title=\"Web Developer\">Web Developer</span></h2>\n",
      "{'title': 'newWeb Developer'}\n",
      "-----\n",
      " <h2 class=\"jobTitle jobTitle-color-purple\"><span title=\"Web Development Apprentice\">Web Development Apprentice</span></h2>\n",
      "{'title': 'Web Development Apprentice'}\n",
      "-----\n",
      " <h2 class=\"jobTitle jobTitle-color-purple\"><span title=\"Web Developer - Front End\">Web Developer - Front End</span></h2>\n",
      "{'title': 'Web Developer - Front End'}\n",
      "-----\n",
      " <h2 class=\"jobTitle jobTitle-color-purple\"><span title=\"Web/App Developer\">Web/App Developer</span></h2>\n",
      "{'title': 'Web/App Developer'}\n",
      "-----\n",
      " <h2 class=\"jobTitle jobTitle-color-purple\"><span title=\"Web Developer\">Web Developer</span></h2>\n",
      "{'title': 'Web Developer'}\n",
      "-----\n",
      " <h2 class=\"jobTitle jobTitle-color-purple\"><span title=\"Web Developer (Jr. to Mid)\">Web Developer (Jr. to Mid)</span></h2>\n",
      "{'title': 'Web Developer (Jr. to Mid)'}\n",
      "-----\n",
      " <h2 class=\"jobTitle jobTitle-color-purple\"><span title=\"Web Developer/Programmer\">Web Developer/Programmer</span></h2>\n",
      "{'title': 'Web Developer/Programmer'}\n",
      "-----\n",
      " <h2 class=\"jobTitle jobTitle-color-purple\"><span title=\"Web Developer Milwaukee\">Web Developer Milwaukee</span></h2>\n",
      "{'title': 'Web Developer Milwaukee'}\n",
      "-----\n",
      " <h2 class=\"jobTitle jobTitle-color-purple\"><span title=\"Ed-Tech Curriculum Developer\">Ed-Tech Curriculum Developer</span></h2>\n",
      "{'title': 'Ed-Tech Curriculum Developer'}\n",
      "-----\n",
      " <h2 class=\"jobTitle jobTitle-color-purple jobTitle-newJob\"><div class=\"new topLeft holisticNewBlue desktop\"><span class=\"label\">new</span></div><span title=\"Frontend Developer - US Remote\">Frontend Developer - US Remote</span></h2>\n",
      "{'title': 'newFrontend Developer - US Remote'}\n",
      "-----\n",
      " <h2 class=\"jobTitle jobTitle-color-purple\"><span title=\"Junior Web Developer\">Junior Web Developer</span></h2>\n",
      "{'title': 'Junior Web Developer'}\n",
      "-----\n",
      " <h2 class=\"jobTitle jobTitle-color-purple\"><span title=\"Web Developer Milwaukee\">Web Developer Milwaukee</span></h2>\n",
      "{'title': 'Web Developer Milwaukee'}\n",
      "-----\n",
      " <h2 class=\"jobTitle jobTitle-color-purple jobTitle-newJob\"><div class=\"new topLeft holisticNewBlue desktop\"><span class=\"label\">new</span></div><span title=\"Web Developer @ Thane\">Web Developer @ Thane</span></h2>\n",
      "{'title': 'newWeb Developer @ Thane'}\n",
      "-----\n",
      " <h2 class=\"jobTitle jobTitle-color-purple jobTitle-newJob\"><div class=\"new topLeft holisticNewBlue desktop\"><span class=\"label\">new</span></div><span title=\"Frontend Web Developer (Wordpress)\">Frontend Web Developer (Wordpress)</span></h2>\n",
      "{'title': 'newFrontend Web Developer (Wordpress)'}\n",
      "-----\n",
      " <h2 class=\"jobTitle jobTitle-color-purple\"><span title=\"Web Developer (Remote)\">Web Developer (Remote)</span></h2>\n",
      "{'title': 'Web Developer (Remote)'}\n",
      "-----\n",
      " <h2 class=\"jobTitle jobTitle-color-purple\"><span title=\"Junior Web Developer\">Junior Web Developer</span></h2>\n",
      "{'title': 'Junior Web Developer'}\n",
      "-----\n",
      " <h2 class=\"jobTitle jobTitle-color-purple\"><span title=\"Web Developer\">Web Developer</span></h2>\n",
      "{'title': 'Web Developer'}\n",
      "-----\n",
      " <h2 class=\"jobTitle jobTitle-color-purple jobTitle-newJob\"><div class=\"new topLeft holisticNewBlue desktop\"><span class=\"label\">new</span></div><span title=\"Junior .Net Developer\">Junior .Net Developer</span></h2>\n",
      "{'title': 'newJunior .Net Developer'}\n",
      "-----\n",
      " <h2 class=\"jobTitle jobTitle-color-purple\"><span title=\"VitalCart: Full Stack Engineer (Full-Time OR Part Time)\">VitalCart: Full Stack Engineer (Full-Time OR Part Time)</span></h2>\n",
      "{'title': 'VitalCart: Full Stack Engineer (Full-Time OR Part Time)'}\n",
      "-----\n",
      " <h2 class=\"jobTitle jobTitle-color-purple jobTitle-newJob\"><div class=\"new topLeft holisticNewBlue desktop\"><span class=\"label\">new</span></div><span title=\"BHLDN: Web Developer\">BHLDN: Web Developer</span></h2>\n",
      "{'title': 'newBHLDN: Web Developer'}\n",
      "-----\n",
      " <h2 class=\"jobTitle jobTitle-color-purple\"><span title=\"Software / Web Developer\">Software / Web Developer</span></h2>\n",
      "{'title': 'Software / Web Developer'}\n",
      "-----\n",
      " <h2 class=\"jobTitle jobTitle-color-purple\"><span title=\"Web Designer/Developer\">Web Designer/Developer</span></h2>\n",
      "{'title': 'Web Designer/Developer'}\n",
      "-----\n",
      " <h2 class=\"jobTitle jobTitle-color-purple\"><span title=\"Entry Level Developer - 2022 Start Date\">Entry Level Developer - 2022 Start Date</span></h2>\n",
      "{'title': 'Entry Level Developer - 2022 Start Date'}\n"
     ]
    },
    {
     "ename": "UnicodeEncodeError",
     "evalue": "'charmap' codec can't encode character '\\ufeff' in position 66: character maps to <undefined>",
     "output_type": "error",
     "traceback": [
      "\u001b[1;31m---------------------------------------------------------------------------\u001b[0m",
      "\u001b[1;31mUnicodeEncodeError\u001b[0m                        Traceback (most recent call last)",
      "\u001b[1;32m~\\AppData\\Local\\Temp/ipykernel_9048/1022309641.py\u001b[0m in \u001b[0;36m<module>\u001b[1;34m\u001b[0m\n\u001b[1;32m----> 1\u001b[1;33m \u001b[0mmain\u001b[0m\u001b[1;33m(\u001b[0m\u001b[1;34m\"Milwaukee\"\u001b[0m\u001b[1;33m,\u001b[0m \u001b[1;34m\"Web Developer\"\u001b[0m\u001b[1;33m,\u001b[0m \u001b[1;36m2\u001b[0m\u001b[1;33m)\u001b[0m\u001b[1;33m\u001b[0m\u001b[1;33m\u001b[0m\u001b[0m\n\u001b[0m",
      "\u001b[1;32m~\\AppData\\Local\\Temp/ipykernel_9048/2659725957.py\u001b[0m in \u001b[0;36mmain\u001b[1;34m(name_of_city, keywords, number_of_pages_nos)\u001b[0m\n\u001b[0;32m     13\u001b[0m     \u001b[0mdata_collected\u001b[0m \u001b[1;33m=\u001b[0m \u001b[0mscrape_data\u001b[0m\u001b[1;33m(\u001b[0m\u001b[0murl_to_scrape\u001b[0m\u001b[1;33m,\u001b[0m \u001b[0mnumber_of_pages_nos\u001b[0m\u001b[1;33m)\u001b[0m\u001b[1;33m\u001b[0m\u001b[1;33m\u001b[0m\u001b[0m\n\u001b[0;32m     14\u001b[0m     \u001b[1;32mwith\u001b[0m \u001b[0mopen\u001b[0m\u001b[1;33m(\u001b[0m\u001b[1;34m'data.json'\u001b[0m\u001b[1;33m,\u001b[0m \u001b[1;34m'w'\u001b[0m\u001b[1;33m)\u001b[0m \u001b[1;32mas\u001b[0m \u001b[0mfp\u001b[0m\u001b[1;33m:\u001b[0m\u001b[1;33m\u001b[0m\u001b[1;33m\u001b[0m\u001b[0m\n\u001b[1;32m---> 15\u001b[1;33m         \u001b[0mjson\u001b[0m\u001b[1;33m.\u001b[0m\u001b[0mdump\u001b[0m\u001b[1;33m(\u001b[0m\u001b[0mdata_collected\u001b[0m\u001b[1;33m,\u001b[0m \u001b[0mfp\u001b[0m\u001b[1;33m,\u001b[0m \u001b[0msort_keys\u001b[0m\u001b[1;33m=\u001b[0m\u001b[1;32mTrue\u001b[0m\u001b[1;33m,\u001b[0m \u001b[0mindent\u001b[0m\u001b[1;33m=\u001b[0m\u001b[1;36m4\u001b[0m\u001b[1;33m,\u001b[0m \u001b[0mensure_ascii\u001b[0m\u001b[1;33m=\u001b[0m\u001b[1;32mFalse\u001b[0m\u001b[1;33m)\u001b[0m\u001b[1;33m\u001b[0m\u001b[1;33m\u001b[0m\u001b[0m\n\u001b[0m",
      "\u001b[1;32m~\\AppData\\Local\\Programs\\Python\\Python39\\lib\\json\\__init__.py\u001b[0m in \u001b[0;36mdump\u001b[1;34m(obj, fp, skipkeys, ensure_ascii, check_circular, allow_nan, cls, indent, separators, default, sort_keys, **kw)\u001b[0m\n\u001b[0;32m    178\u001b[0m     \u001b[1;31m# a debuggability cost\u001b[0m\u001b[1;33m\u001b[0m\u001b[1;33m\u001b[0m\u001b[1;33m\u001b[0m\u001b[0m\n\u001b[0;32m    179\u001b[0m     \u001b[1;32mfor\u001b[0m \u001b[0mchunk\u001b[0m \u001b[1;32min\u001b[0m \u001b[0miterable\u001b[0m\u001b[1;33m:\u001b[0m\u001b[1;33m\u001b[0m\u001b[1;33m\u001b[0m\u001b[0m\n\u001b[1;32m--> 180\u001b[1;33m         \u001b[0mfp\u001b[0m\u001b[1;33m.\u001b[0m\u001b[0mwrite\u001b[0m\u001b[1;33m(\u001b[0m\u001b[0mchunk\u001b[0m\u001b[1;33m)\u001b[0m\u001b[1;33m\u001b[0m\u001b[1;33m\u001b[0m\u001b[0m\n\u001b[0m\u001b[0;32m    181\u001b[0m \u001b[1;33m\u001b[0m\u001b[0m\n\u001b[0;32m    182\u001b[0m \u001b[1;33m\u001b[0m\u001b[0m\n",
      "\u001b[1;32m~\\AppData\\Local\\Programs\\Python\\Python39\\lib\\encodings\\cp1252.py\u001b[0m in \u001b[0;36mencode\u001b[1;34m(self, input, final)\u001b[0m\n\u001b[0;32m     17\u001b[0m \u001b[1;32mclass\u001b[0m \u001b[0mIncrementalEncoder\u001b[0m\u001b[1;33m(\u001b[0m\u001b[0mcodecs\u001b[0m\u001b[1;33m.\u001b[0m\u001b[0mIncrementalEncoder\u001b[0m\u001b[1;33m)\u001b[0m\u001b[1;33m:\u001b[0m\u001b[1;33m\u001b[0m\u001b[1;33m\u001b[0m\u001b[0m\n\u001b[0;32m     18\u001b[0m     \u001b[1;32mdef\u001b[0m \u001b[0mencode\u001b[0m\u001b[1;33m(\u001b[0m\u001b[0mself\u001b[0m\u001b[1;33m,\u001b[0m \u001b[0minput\u001b[0m\u001b[1;33m,\u001b[0m \u001b[0mfinal\u001b[0m\u001b[1;33m=\u001b[0m\u001b[1;32mFalse\u001b[0m\u001b[1;33m)\u001b[0m\u001b[1;33m:\u001b[0m\u001b[1;33m\u001b[0m\u001b[1;33m\u001b[0m\u001b[0m\n\u001b[1;32m---> 19\u001b[1;33m         \u001b[1;32mreturn\u001b[0m \u001b[0mcodecs\u001b[0m\u001b[1;33m.\u001b[0m\u001b[0mcharmap_encode\u001b[0m\u001b[1;33m(\u001b[0m\u001b[0minput\u001b[0m\u001b[1;33m,\u001b[0m\u001b[0mself\u001b[0m\u001b[1;33m.\u001b[0m\u001b[0merrors\u001b[0m\u001b[1;33m,\u001b[0m\u001b[0mencoding_table\u001b[0m\u001b[1;33m)\u001b[0m\u001b[1;33m[\u001b[0m\u001b[1;36m0\u001b[0m\u001b[1;33m]\u001b[0m\u001b[1;33m\u001b[0m\u001b[1;33m\u001b[0m\u001b[0m\n\u001b[0m\u001b[0;32m     20\u001b[0m \u001b[1;33m\u001b[0m\u001b[0m\n\u001b[0;32m     21\u001b[0m \u001b[1;32mclass\u001b[0m \u001b[0mIncrementalDecoder\u001b[0m\u001b[1;33m(\u001b[0m\u001b[0mcodecs\u001b[0m\u001b[1;33m.\u001b[0m\u001b[0mIncrementalDecoder\u001b[0m\u001b[1;33m)\u001b[0m\u001b[1;33m:\u001b[0m\u001b[1;33m\u001b[0m\u001b[1;33m\u001b[0m\u001b[0m\n",
      "\u001b[1;31mUnicodeEncodeError\u001b[0m: 'charmap' codec can't encode character '\\ufeff' in position 66: character maps to <undefined>"
     ]
    }
   ],
   "source": [
    "main(\"Milwaukee\", \"Web Developer\", 2)"
   ]
  },
  {
   "cell_type": "code",
   "execution_count": null,
   "metadata": {},
   "outputs": [],
   "source": []
  },
  {
   "cell_type": "code",
   "execution_count": null,
   "metadata": {},
   "outputs": [],
   "source": []
  }
 ],
 "metadata": {
  "interpreter": {
   "hash": "c3e7881a579cc55531a9f7a6b7c597219f2cf791d0c91f6f5435769c0def3c7a"
  },
  "kernelspec": {
   "display_name": "Python 3.9.5 64-bit",
   "language": "python",
   "name": "python3"
  },
  "language_info": {
   "codemirror_mode": {
    "name": "ipython",
    "version": 3
   },
   "file_extension": ".py",
   "mimetype": "text/x-python",
   "name": "python",
   "nbconvert_exporter": "python",
   "pygments_lexer": "ipython3",
   "version": "3.9.5"
  },
  "orig_nbformat": 4
 },
 "nbformat": 4,
 "nbformat_minor": 2
}
